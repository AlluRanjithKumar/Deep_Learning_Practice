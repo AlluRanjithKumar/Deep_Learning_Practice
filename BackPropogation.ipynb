{
 "cells": [
  {
   "cell_type": "code",
   "execution_count": 1,
   "id": "3632e298-ab8d-457c-a8db-30b072984b88",
   "metadata": {},
   "outputs": [],
   "source": [
    "import numpy as np\n",
    "import pandas as pd"
   ]
  },
  {
   "cell_type": "code",
   "execution_count": 3,
   "id": "7995ab5e-3d9b-4329-aeb1-f786244e3baf",
   "metadata": {},
   "outputs": [],
   "source": [
    "df = pd.DataFrame([[8,8,4],[7,9,5],[6,10,6],[5,12,7]], columns=['cgpa', 'profile_score', 'lpa'])"
   ]
  },
  {
   "cell_type": "code",
   "execution_count": 5,
   "id": "cbe79c4a-f571-4b05-b98e-07c88420f915",
   "metadata": {},
   "outputs": [
    {
     "data": {
      "text/html": [
       "<div>\n",
       "<style scoped>\n",
       "    .dataframe tbody tr th:only-of-type {\n",
       "        vertical-align: middle;\n",
       "    }\n",
       "\n",
       "    .dataframe tbody tr th {\n",
       "        vertical-align: top;\n",
       "    }\n",
       "\n",
       "    .dataframe thead th {\n",
       "        text-align: right;\n",
       "    }\n",
       "</style>\n",
       "<table border=\"1\" class=\"dataframe\">\n",
       "  <thead>\n",
       "    <tr style=\"text-align: right;\">\n",
       "      <th></th>\n",
       "      <th>cgpa</th>\n",
       "      <th>profile_score</th>\n",
       "      <th>lpa</th>\n",
       "    </tr>\n",
       "  </thead>\n",
       "  <tbody>\n",
       "    <tr>\n",
       "      <th>0</th>\n",
       "      <td>8</td>\n",
       "      <td>8</td>\n",
       "      <td>4</td>\n",
       "    </tr>\n",
       "    <tr>\n",
       "      <th>1</th>\n",
       "      <td>7</td>\n",
       "      <td>9</td>\n",
       "      <td>5</td>\n",
       "    </tr>\n",
       "    <tr>\n",
       "      <th>2</th>\n",
       "      <td>6</td>\n",
       "      <td>10</td>\n",
       "      <td>6</td>\n",
       "    </tr>\n",
       "    <tr>\n",
       "      <th>3</th>\n",
       "      <td>5</td>\n",
       "      <td>12</td>\n",
       "      <td>7</td>\n",
       "    </tr>\n",
       "  </tbody>\n",
       "</table>\n",
       "</div>"
      ],
      "text/plain": [
       "   cgpa  profile_score  lpa\n",
       "0     8              8    4\n",
       "1     7              9    5\n",
       "2     6             10    6\n",
       "3     5             12    7"
      ]
     },
     "execution_count": 5,
     "metadata": {},
     "output_type": "execute_result"
    }
   ],
   "source": [
    "df"
   ]
  },
  {
   "cell_type": "code",
   "execution_count": 35,
   "id": "afbd6535-26eb-4e81-8ed7-3f9ec03b0036",
   "metadata": {},
   "outputs": [],
   "source": [
    "def initialise_parameters(layer_dims):\n",
    "    np.random.seed(3)\n",
    "    parameters={}\n",
    "    L=len(layer_dims)\n",
    "    for i in range(1,L):\n",
    "        parameters[\"w\"+str(i)]=np.ones((layer_dims[i-1],layer_dims[i]))*0.1\n",
    "        parameters[\"b\"+str(i)]=np.zeros((layer_dims[i],1))\n",
    "    return parameters"
   ]
  },
  {
   "cell_type": "code",
   "execution_count": 37,
   "id": "e1861520-79cf-4a2f-92a6-ea42cfdfbe2c",
   "metadata": {},
   "outputs": [
    {
     "data": {
      "text/plain": [
       "{'w1': array([[0.1, 0.1],\n",
       "        [0.1, 0.1]]),\n",
       " 'b1': array([[0.],\n",
       "        [0.]]),\n",
       " 'w2': array([[0.1],\n",
       "        [0.1]]),\n",
       " 'b2': array([[0.]])}"
      ]
     },
     "execution_count": 37,
     "metadata": {},
     "output_type": "execute_result"
    }
   ],
   "source": [
    "initialise_parameters([2,2,1])"
   ]
  },
  {
   "cell_type": "code",
   "execution_count": 39,
   "id": "fdfa3b21-58b2-4129-b759-ddd60862857a",
   "metadata": {},
   "outputs": [],
   "source": [
    "def linear_forward(A_prev, W, b):\n",
    "  \n",
    "  Z = np.dot(W.T, A_prev) + b\n",
    "  \n",
    "  return Z"
   ]
  },
  {
   "cell_type": "code",
   "execution_count": 51,
   "id": "584e91c2-4f5d-41a1-8492-7f833dccb315",
   "metadata": {},
   "outputs": [],
   "source": [
    "def L_layer_forward(X, parameters):\n",
    "\n",
    "  A = X\n",
    "  L = len(parameters) // 2                  # number of layers in the neural network\n",
    "  \n",
    "  for l in range(1, L+1):\n",
    "    A_prev = A \n",
    "    Wl = parameters['w' + str(l)]\n",
    "    bl = parameters['b' + str(l)]\n",
    "    A = linear_forward(A_prev, Wl, bl)\n",
    "  return A,A_prev"
   ]
  },
  {
   "cell_type": "code",
   "execution_count": 53,
   "id": "2c9918c4-18de-4a81-870a-6fa595443193",
   "metadata": {},
   "outputs": [],
   "source": [
    "X = df[['cgpa', 'profile_score']].values[0].reshape(2,1) # Shape(no of features, no. of training example)\n",
    "y = df[['lpa']].values[0][0]\n",
    "parameters = initialise_parameters([2,2,1])\n",
    "\n",
    "y_hat,A1 = L_layer_forward(X, parameters)"
   ]
  },
  {
   "cell_type": "code",
   "execution_count": 55,
   "id": "72ec2cd6-0bb4-4aa3-833e-9cc172395841",
   "metadata": {},
   "outputs": [
    {
     "data": {
      "text/plain": [
       "array([[0.32]])"
      ]
     },
     "execution_count": 55,
     "metadata": {},
     "output_type": "execute_result"
    }
   ],
   "source": [
    "y_hat"
   ]
  },
  {
   "cell_type": "code",
   "execution_count": 57,
   "id": "f80d6aa3-d280-4f62-b760-1174a982ce92",
   "metadata": {},
   "outputs": [
    {
     "data": {
      "text/plain": [
       "array([[1.6],\n",
       "       [1.6]])"
      ]
     },
     "execution_count": 57,
     "metadata": {},
     "output_type": "execute_result"
    }
   ],
   "source": [
    "A1"
   ]
  },
  {
   "cell_type": "code",
   "execution_count": 59,
   "id": "b1f7d2e8-7848-4c6f-a9f3-c271151ed419",
   "metadata": {},
   "outputs": [],
   "source": [
    "y_hat=y_hat[0][0]"
   ]
  },
  {
   "cell_type": "code",
   "execution_count": 69,
   "id": "69a88207-ece4-4644-bf07-4c0947c01680",
   "metadata": {},
   "outputs": [],
   "source": [
    "def update_parameters(parameters,y,y_hat,A1,X):\n",
    "  parameters['w2'][0][0] = parameters['w2'][0][0] + (0.001 * 2 * (y - y_hat)*A1[0][0])\n",
    "  parameters['w2'][1][0] = parameters['w2'][1][0] + (0.001 * 2 * (y - y_hat)*A1[1][0])\n",
    "  parameters['b2'][0][0] = parameters['w2'][1][0] + (0.001 * 2 * (y - y_hat))\n",
    "\n",
    "  parameters['w1'][0][0] = parameters['w1'][0][0] + (0.001 * 2 * (y - y_hat)*parameters['w2'][0][0]*X[0][0])\n",
    "  parameters['w1'][0][1] = parameters['w1'][0][1] + (0.001 * 2 * (y - y_hat)*parameters['w2'][0][0]*X[1][0])\n",
    "  parameters['b1'][0][0] = parameters['b1'][0][0] + (0.001 * 2 * (y - y_hat)*parameters['w2'][0][0])\n",
    "\n",
    "  parameters['w1'][1][0] = parameters['w1'][1][0] + (0.001 * 2 * (y - y_hat)*parameters['w2'][1][0]*X[0][0])\n",
    "  parameters['w1'][1][1] = parameters['w1'][1][1] + (0.001 * 2 * (y - y_hat)*parameters['w2'][1][0]*X[1][0])\n",
    "  parameters['b1'][1][0] = parameters['b1'][1][0] + (0.001 * 2 * (y - y_hat)*parameters['w2'][1][0])"
   ]
  },
  {
   "cell_type": "code",
   "execution_count": 71,
   "id": "bcdabc03-0019-4c14-a5c5-307ca3533e8c",
   "metadata": {},
   "outputs": [],
   "source": [
    "update_parameters(parameters,y,y_hat,A1,X)"
   ]
  },
  {
   "cell_type": "code",
   "execution_count": 73,
   "id": "e6d2cd28-f778-4a2c-a115-905aa912569e",
   "metadata": {},
   "outputs": [
    {
     "data": {
      "text/plain": [
       "{'w1': array([[0.10727474, 0.10727474],\n",
       "        [0.10727474, 0.10727474]]),\n",
       " 'b1': array([[0.00090934],\n",
       "        [0.00090934]]),\n",
       " 'w2': array([[0.123552],\n",
       "        [0.123552]]),\n",
       " 'b2': array([[0.130912]])}"
      ]
     },
     "execution_count": 73,
     "metadata": {},
     "output_type": "execute_result"
    }
   ],
   "source": [
    "parameters"
   ]
  },
  {
   "cell_type": "code",
   "execution_count": 75,
   "id": "f4e7fe65-f000-4499-81f3-20c6250e7a2a",
   "metadata": {},
   "outputs": [],
   "source": [
    "X = df[['cgpa', 'profile_score']].values[3].reshape(2,1) # Shape(no of features, no. of training example)\n",
    "y = df[['lpa']].values[3][0]\n",
    "\n",
    "y_hat,A1 = L_layer_forward(X, parameters)"
   ]
  },
  {
   "cell_type": "code",
   "execution_count": 77,
   "id": "e7d61918-a9e7-41c7-af3b-0cbcdc4b7ac1",
   "metadata": {},
   "outputs": [
    {
     "name": "stderr",
     "output_type": "stream",
     "text": [
      "C:\\Users\\ranji\\AppData\\Local\\Temp\\ipykernel_21228\\177651305.py:2: DeprecationWarning: Conversion of an array with ndim > 0 to a scalar is deprecated, and will error in future. Ensure you extract a single element from your array before performing this operation. (Deprecated NumPy 1.25.)\n",
      "  parameters['w2'][0][0] = parameters['w2'][0][0] + (0.001 * 2 * (y - y_hat)*A1[0][0])\n",
      "C:\\Users\\ranji\\AppData\\Local\\Temp\\ipykernel_21228\\177651305.py:3: DeprecationWarning: Conversion of an array with ndim > 0 to a scalar is deprecated, and will error in future. Ensure you extract a single element from your array before performing this operation. (Deprecated NumPy 1.25.)\n",
      "  parameters['w2'][1][0] = parameters['w2'][1][0] + (0.001 * 2 * (y - y_hat)*A1[1][0])\n",
      "C:\\Users\\ranji\\AppData\\Local\\Temp\\ipykernel_21228\\177651305.py:4: DeprecationWarning: Conversion of an array with ndim > 0 to a scalar is deprecated, and will error in future. Ensure you extract a single element from your array before performing this operation. (Deprecated NumPy 1.25.)\n",
      "  parameters['b2'][0][0] = parameters['w2'][1][0] + (0.001 * 2 * (y - y_hat))\n",
      "C:\\Users\\ranji\\AppData\\Local\\Temp\\ipykernel_21228\\177651305.py:6: DeprecationWarning: Conversion of an array with ndim > 0 to a scalar is deprecated, and will error in future. Ensure you extract a single element from your array before performing this operation. (Deprecated NumPy 1.25.)\n",
      "  parameters['w1'][0][0] = parameters['w1'][0][0] + (0.001 * 2 * (y - y_hat)*parameters['w2'][0][0]*X[0][0])\n",
      "C:\\Users\\ranji\\AppData\\Local\\Temp\\ipykernel_21228\\177651305.py:7: DeprecationWarning: Conversion of an array with ndim > 0 to a scalar is deprecated, and will error in future. Ensure you extract a single element from your array before performing this operation. (Deprecated NumPy 1.25.)\n",
      "  parameters['w1'][0][1] = parameters['w1'][0][1] + (0.001 * 2 * (y - y_hat)*parameters['w2'][0][0]*X[1][0])\n",
      "C:\\Users\\ranji\\AppData\\Local\\Temp\\ipykernel_21228\\177651305.py:8: DeprecationWarning: Conversion of an array with ndim > 0 to a scalar is deprecated, and will error in future. Ensure you extract a single element from your array before performing this operation. (Deprecated NumPy 1.25.)\n",
      "  parameters['b1'][0][0] = parameters['b1'][0][0] + (0.001 * 2 * (y - y_hat)*parameters['w2'][0][0])\n",
      "C:\\Users\\ranji\\AppData\\Local\\Temp\\ipykernel_21228\\177651305.py:10: DeprecationWarning: Conversion of an array with ndim > 0 to a scalar is deprecated, and will error in future. Ensure you extract a single element from your array before performing this operation. (Deprecated NumPy 1.25.)\n",
      "  parameters['w1'][1][0] = parameters['w1'][1][0] + (0.001 * 2 * (y - y_hat)*parameters['w2'][1][0]*X[0][0])\n",
      "C:\\Users\\ranji\\AppData\\Local\\Temp\\ipykernel_21228\\177651305.py:11: DeprecationWarning: Conversion of an array with ndim > 0 to a scalar is deprecated, and will error in future. Ensure you extract a single element from your array before performing this operation. (Deprecated NumPy 1.25.)\n",
      "  parameters['w1'][1][1] = parameters['w1'][1][1] + (0.001 * 2 * (y - y_hat)*parameters['w2'][1][0]*X[1][0])\n",
      "C:\\Users\\ranji\\AppData\\Local\\Temp\\ipykernel_21228\\177651305.py:12: DeprecationWarning: Conversion of an array with ndim > 0 to a scalar is deprecated, and will error in future. Ensure you extract a single element from your array before performing this operation. (Deprecated NumPy 1.25.)\n",
      "  parameters['b1'][1][0] = parameters['b1'][1][0] + (0.001 * 2 * (y - y_hat)*parameters['w2'][1][0])\n"
     ]
    }
   ],
   "source": [
    "update_parameters(parameters,y,y_hat,A1,X)"
   ]
  },
  {
   "cell_type": "code",
   "execution_count": 79,
   "id": "ac8a1d90-fde3-4c9d-bd92-4dd0539264bc",
   "metadata": {},
   "outputs": [
    {
     "data": {
      "text/plain": [
       "{'w1': array([[0.11670781, 0.12991411],\n",
       "        [0.11670781, 0.12991411]]),\n",
       " 'b1': array([[0.00279596],\n",
       "        [0.00279596]]),\n",
       " 'w2': array([[0.14697314],\n",
       "        [0.14697314]]),\n",
       " 'b2': array([[0.15980959]])}"
      ]
     },
     "execution_count": 79,
     "metadata": {},
     "output_type": "execute_result"
    }
   ],
   "source": [
    "parameters"
   ]
  },
  {
   "cell_type": "code",
   "execution_count": 83,
   "id": "77bc235b-4602-4f89-819d-ba9f390d7c70",
   "metadata": {},
   "outputs": [
    {
     "data": {
      "text/plain": [
       "{'w1': array([[0.10658137, 0.10658137],\n",
       "        [0.10658137, 0.10658137]]),\n",
       " 'b1': array([[0.00082267],\n",
       "        [0.00082267]]),\n",
       " 'w2': array([[0.111776],\n",
       "        [0.111776]]),\n",
       " 'b2': array([[0.119136]])}"
      ]
     },
     "execution_count": 83,
     "metadata": {},
     "output_type": "execute_result"
    }
   ],
   "source": [
    "X = df[['cgpa', 'profile_score']].values[0].reshape(2,1) # Shape(no of features, no. of training example)\n",
    "y = df[['lpa']].values[0][0]\n",
    "\n",
    "# Parameter initialization\n",
    "parameters = initialise_parameters([2,2,1])\n",
    "\n",
    "y_hat,A1 = L_layer_forward(X,parameters)\n",
    "y_hat = y_hat[0][0]\n",
    "\n",
    "update_parameters(parameters,y,y_hat,A1,X)\n",
    "\n",
    "parameters"
   ]
  },
  {
   "cell_type": "code",
   "execution_count": 85,
   "id": "9c272457-f517-4bc2-adf0-97d4ee19e7d8",
   "metadata": {},
   "outputs": [
    {
     "data": {
      "text/plain": [
       "{'w1': array([[0.11458955, 0.1168776 ],\n",
       "        [0.11458955, 0.1168776 ]]),\n",
       " 'b1': array([[0.0019667],\n",
       "        [0.0019667]]),\n",
       " 'w2': array([[0.12712927],\n",
       "        [0.12712927]]),\n",
       " 'b2': array([[0.13612818]])}"
      ]
     },
     "execution_count": 85,
     "metadata": {},
     "output_type": "execute_result"
    }
   ],
   "source": [
    "X = df[['cgpa', 'profile_score']].values[1].reshape(2,1) # Shape(no of features, no. of training exaplme)\n",
    "y = df[['lpa']].values[1][0]\n",
    "\n",
    "y_hat,A1 = L_layer_forward(X,parameters)\n",
    "y_hat = y_hat[0][0]\n",
    "\n",
    "update_parameters(parameters,y,y_hat,A1,X)\n",
    "\n",
    "parameters"
   ]
  },
  {
   "cell_type": "code",
   "execution_count": 87,
   "id": "743f7dd4-6cce-4614-8451-524eec51f059",
   "metadata": {},
   "outputs": [
    {
     "data": {
      "text/plain": [
       "{'w1': array([[0.12409711, 0.13272353],\n",
       "        [0.12412266, 0.13276611]]),\n",
       " 'b1': array([[0.00355129],\n",
       "        [0.00355555]]),\n",
       " 'w2': array([[0.14692424],\n",
       "        [0.14731907]]),\n",
       " 'b2': array([[0.15810417]])}"
      ]
     },
     "execution_count": 87,
     "metadata": {},
     "output_type": "execute_result"
    }
   ],
   "source": [
    "X = df[['cgpa', 'profile_score']].values[2].reshape(2,1) # Shape(no of features, no. of training exaplme)\n",
    "y = df[['lpa']].values[2][0]\n",
    "\n",
    "y_hat,A1 = L_layer_forward(X,parameters)\n",
    "y_hat = y_hat[0][0]\n",
    "\n",
    "update_parameters(parameters,y,y_hat,A1,X)\n",
    "\n",
    "parameters"
   ]
  },
  {
   "cell_type": "code",
   "execution_count": 89,
   "id": "9965b6c5-cab8-4775-8f89-308ad75e3e82",
   "metadata": {},
   "outputs": [
    {
     "data": {
      "text/plain": [
       "{'w1': array([[0.13482804, 0.15847776],\n",
       "        [0.1349909 , 0.15884991]]),\n",
       " 'b1': array([[0.00569748],\n",
       "        [0.0057292 ]]),\n",
       " 'w2': array([[0.17312488],\n",
       "        [0.17534027]]),\n",
       " 'b2': array([[0.18773702]])}"
      ]
     },
     "execution_count": 89,
     "metadata": {},
     "output_type": "execute_result"
    }
   ],
   "source": [
    "X = df[['cgpa', 'profile_score']].values[3].reshape(2,1) # Shape(no of features, no. of training exaplme)\n",
    "y = df[['lpa']].values[3][0]\n",
    "\n",
    "y_hat,A1 = L_layer_forward(X,parameters)\n",
    "y_hat = y_hat[0][0]\n",
    "\n",
    "update_parameters(parameters,y,y_hat,A1,X)\n",
    "\n",
    "parameters"
   ]
  },
  {
   "cell_type": "code",
   "execution_count": 93,
   "id": "ec8783bd-6ad0-4312-9eb4-2168df1c5926",
   "metadata": {},
   "outputs": [
    {
     "name": "stdout",
     "output_type": "stream",
     "text": [
      "Epoch -  1 Loss -  25.321744156025517\n",
      "Epoch -  2 Loss -  18.320004165722047\n",
      "Epoch -  3 Loss -  9.473661050729625\n",
      "Epoch -  4 Loss -  3.252093863403161\n",
      "Epoch -  5 Loss -  1.3407132589299964\n"
     ]
    },
    {
     "data": {
      "text/plain": [
       "{'w1': array([[0.26507636, 0.38558861],\n",
       "        [0.27800387, 0.40980287]]),\n",
       " 'b1': array([[0.02749056],\n",
       "        [0.02974394]]),\n",
       " 'w2': array([[0.41165744],\n",
       "        [0.48302736]]),\n",
       " 'b2': array([[0.48646246]])}"
      ]
     },
     "execution_count": 93,
     "metadata": {},
     "output_type": "execute_result"
    }
   ],
   "source": [
    "# epochs implementation\n",
    "\n",
    "parameters = initialise_parameters([2,2,1])\n",
    "epochs = 5\n",
    "\n",
    "for i in range(epochs):\n",
    "\n",
    "  Loss = []\n",
    "\n",
    "  for j in range(df.shape[0]):\n",
    "\n",
    "    X = df[['cgpa', 'profile_score']].values[j].reshape(2,1) # Shape(no of features, no. of training example)\n",
    "    y = df[['lpa']].values[j][0]\n",
    "\n",
    "    # Parameter initialization\n",
    "\n",
    "\n",
    "    y_hat,A1 = L_layer_forward(X,parameters)\n",
    "    y_hat = y_hat[0][0]\n",
    "\n",
    "    update_parameters(parameters,y,y_hat,A1,X)\n",
    "\n",
    "    Loss.append((y-y_hat)**2)\n",
    "\n",
    "  print('Epoch - ',i+1,'Loss - ',np.array(Loss).mean())\n",
    "\n",
    "parameters"
   ]
  },
  {
   "cell_type": "code",
   "execution_count": null,
   "id": "6104249a-f5ef-46f0-b56b-c1fc1fa3d0eb",
   "metadata": {},
   "outputs": [],
   "source": []
  }
 ],
 "metadata": {
  "kernelspec": {
   "display_name": "Python 3 (ipykernel)",
   "language": "python",
   "name": "python3"
  },
  "language_info": {
   "codemirror_mode": {
    "name": "ipython",
    "version": 3
   },
   "file_extension": ".py",
   "mimetype": "text/x-python",
   "name": "python",
   "nbconvert_exporter": "python",
   "pygments_lexer": "ipython3",
   "version": "3.12.4"
  }
 },
 "nbformat": 4,
 "nbformat_minor": 5
}
